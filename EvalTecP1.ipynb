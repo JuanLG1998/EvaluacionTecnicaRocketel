{
  "nbformat": 4,
  "nbformat_minor": 0,
  "metadata": {
    "colab": {
      "provenance": [],
      "authorship_tag": "ABX9TyNZBOdt8hGqHTtnegSs2RJl",
      "include_colab_link": true
    },
    "kernelspec": {
      "name": "python3",
      "display_name": "Python 3"
    },
    "language_info": {
      "name": "python"
    }
  },
  "cells": [
    {
      "cell_type": "markdown",
      "metadata": {
        "id": "view-in-github",
        "colab_type": "text"
      },
      "source": [
        "<a href=\"https://colab.research.google.com/github/JuanLG1998/EvaluacionTecnicaRocketel/blob/main/EvalTecP1.ipynb\" target=\"_parent\"><img src=\"https://colab.research.google.com/assets/colab-badge.svg\" alt=\"Open In Colab\"/></a>"
      ]
    },
    {
      "cell_type": "markdown",
      "source": [
        "# Evaluación Técnica Rocketel Caso 1"
      ],
      "metadata": {
        "id": "rqkwjbRgXbyM"
      }
    },
    {
      "cell_type": "markdown",
      "source": [
        "## Limpieza y Transformación de Datos"
      ],
      "metadata": {
        "id": "cl886bPXYOo_"
      }
    },
    {
      "cell_type": "code",
      "source": [
        "# Conexión del notebook con Google Drive\n",
        "from google.colab import drive\n",
        "\n",
        "drive.mount('/content/drive')"
      ],
      "metadata": {
        "colab": {
          "base_uri": "https://localhost:8080/"
        },
        "id": "NtRpy27eXcVr",
        "outputId": "febe1e72-7916-4b16-cb44-0558a56e8c2a"
      },
      "execution_count": null,
      "outputs": [
        {
          "output_type": "stream",
          "name": "stdout",
          "text": [
            "Drive already mounted at /content/drive; to attempt to forcibly remount, call drive.mount(\"/content/drive\", force_remount=True).\n"
          ]
        }
      ]
    },
    {
      "cell_type": "code",
      "source": [
        "# Importando bibliotecas de python para la manipulación y análisis de datos\n",
        "import pandas as pd\n",
        "import datetime as dt\n",
        "\n",
        "# Creando dataset con la información a utilizar (datos_dummy)\n",
        "datos = pd.read_csv('/content/drive/MyDrive/EvaluacionTecnica/datos_dummy.csv')\n",
        "\n",
        "# Mostrando la información del dataset (primeras cinco columnas)\n",
        "datos.head(10)"
      ],
      "metadata": {
        "colab": {
          "base_uri": "https://localhost:8080/",
          "height": 363
        },
        "id": "F2hkjG2EXlR4",
        "outputId": "595a1ff9-7f73-405d-bb0e-5cfa3ba9664b"
      },
      "execution_count": null,
      "outputs": [
        {
          "output_type": "execute_result",
          "data": {
            "text/plain": [
              "  fecha_transaccion  id_sim fecha_activacion tipo_transaccion  id_vendedor  \\\n",
              "0        02/03/2023     NaN       26/08/2022             alta          1.0   \n",
              "1        20/03/2023  3966.0       04/02/2023             alta         42.0   \n",
              "2        28/04/2023  2798.0       06/03/2023             alta         32.0   \n",
              "3        05/05/2023  3062.0       05/09/2022             alta         39.0   \n",
              "4        17/05/2023  1512.0       08/04/2023             alta         26.0   \n",
              "5               NaN  2575.0       31/03/2023             alta         42.0   \n",
              "6               NaN  5283.0       08/01/2023             alta          7.0   \n",
              "7        14/02/2023  8705.0              NaN             alta          NaN   \n",
              "8        12/05/2023  2060.0       29/03/2023              NaN         46.0   \n",
              "9        12/01/2023  5779.0       12/01/2023          recarga         38.0   \n",
              "\n",
              "   precio_de_venta  bodega  id_company  costo_venta  \n",
              "0            100.0     3.0         1.0        200.0  \n",
              "1           5000.0     3.0         1.0        100.0  \n",
              "2            200.0     5.0         1.0        230.0  \n",
              "3           5000.0     1.0         1.0        200.0  \n",
              "4             50.0     4.0         1.0          NaN  \n",
              "5             50.0     NaN         1.0        500.0  \n",
              "6              NaN     5.0         NaN        500.0  \n",
              "7            100.0     1.0         1.0        500.0  \n",
              "8            500.0     4.0         NaN        200.0  \n",
              "9            200.0     1.0         1.0         30.0  "
            ],
            "text/html": [
              "\n",
              "  <div id=\"df-cf72fa7d-2256-424c-815d-5ea878c04d5d\">\n",
              "    <div class=\"colab-df-container\">\n",
              "      <div>\n",
              "<style scoped>\n",
              "    .dataframe tbody tr th:only-of-type {\n",
              "        vertical-align: middle;\n",
              "    }\n",
              "\n",
              "    .dataframe tbody tr th {\n",
              "        vertical-align: top;\n",
              "    }\n",
              "\n",
              "    .dataframe thead th {\n",
              "        text-align: right;\n",
              "    }\n",
              "</style>\n",
              "<table border=\"1\" class=\"dataframe\">\n",
              "  <thead>\n",
              "    <tr style=\"text-align: right;\">\n",
              "      <th></th>\n",
              "      <th>fecha_transaccion</th>\n",
              "      <th>id_sim</th>\n",
              "      <th>fecha_activacion</th>\n",
              "      <th>tipo_transaccion</th>\n",
              "      <th>id_vendedor</th>\n",
              "      <th>precio_de_venta</th>\n",
              "      <th>bodega</th>\n",
              "      <th>id_company</th>\n",
              "      <th>costo_venta</th>\n",
              "    </tr>\n",
              "  </thead>\n",
              "  <tbody>\n",
              "    <tr>\n",
              "      <th>0</th>\n",
              "      <td>02/03/2023</td>\n",
              "      <td>NaN</td>\n",
              "      <td>26/08/2022</td>\n",
              "      <td>alta</td>\n",
              "      <td>1.0</td>\n",
              "      <td>100.0</td>\n",
              "      <td>3.0</td>\n",
              "      <td>1.0</td>\n",
              "      <td>200.0</td>\n",
              "    </tr>\n",
              "    <tr>\n",
              "      <th>1</th>\n",
              "      <td>20/03/2023</td>\n",
              "      <td>3966.0</td>\n",
              "      <td>04/02/2023</td>\n",
              "      <td>alta</td>\n",
              "      <td>42.0</td>\n",
              "      <td>5000.0</td>\n",
              "      <td>3.0</td>\n",
              "      <td>1.0</td>\n",
              "      <td>100.0</td>\n",
              "    </tr>\n",
              "    <tr>\n",
              "      <th>2</th>\n",
              "      <td>28/04/2023</td>\n",
              "      <td>2798.0</td>\n",
              "      <td>06/03/2023</td>\n",
              "      <td>alta</td>\n",
              "      <td>32.0</td>\n",
              "      <td>200.0</td>\n",
              "      <td>5.0</td>\n",
              "      <td>1.0</td>\n",
              "      <td>230.0</td>\n",
              "    </tr>\n",
              "    <tr>\n",
              "      <th>3</th>\n",
              "      <td>05/05/2023</td>\n",
              "      <td>3062.0</td>\n",
              "      <td>05/09/2022</td>\n",
              "      <td>alta</td>\n",
              "      <td>39.0</td>\n",
              "      <td>5000.0</td>\n",
              "      <td>1.0</td>\n",
              "      <td>1.0</td>\n",
              "      <td>200.0</td>\n",
              "    </tr>\n",
              "    <tr>\n",
              "      <th>4</th>\n",
              "      <td>17/05/2023</td>\n",
              "      <td>1512.0</td>\n",
              "      <td>08/04/2023</td>\n",
              "      <td>alta</td>\n",
              "      <td>26.0</td>\n",
              "      <td>50.0</td>\n",
              "      <td>4.0</td>\n",
              "      <td>1.0</td>\n",
              "      <td>NaN</td>\n",
              "    </tr>\n",
              "    <tr>\n",
              "      <th>5</th>\n",
              "      <td>NaN</td>\n",
              "      <td>2575.0</td>\n",
              "      <td>31/03/2023</td>\n",
              "      <td>alta</td>\n",
              "      <td>42.0</td>\n",
              "      <td>50.0</td>\n",
              "      <td>NaN</td>\n",
              "      <td>1.0</td>\n",
              "      <td>500.0</td>\n",
              "    </tr>\n",
              "    <tr>\n",
              "      <th>6</th>\n",
              "      <td>NaN</td>\n",
              "      <td>5283.0</td>\n",
              "      <td>08/01/2023</td>\n",
              "      <td>alta</td>\n",
              "      <td>7.0</td>\n",
              "      <td>NaN</td>\n",
              "      <td>5.0</td>\n",
              "      <td>NaN</td>\n",
              "      <td>500.0</td>\n",
              "    </tr>\n",
              "    <tr>\n",
              "      <th>7</th>\n",
              "      <td>14/02/2023</td>\n",
              "      <td>8705.0</td>\n",
              "      <td>NaN</td>\n",
              "      <td>alta</td>\n",
              "      <td>NaN</td>\n",
              "      <td>100.0</td>\n",
              "      <td>1.0</td>\n",
              "      <td>1.0</td>\n",
              "      <td>500.0</td>\n",
              "    </tr>\n",
              "    <tr>\n",
              "      <th>8</th>\n",
              "      <td>12/05/2023</td>\n",
              "      <td>2060.0</td>\n",
              "      <td>29/03/2023</td>\n",
              "      <td>NaN</td>\n",
              "      <td>46.0</td>\n",
              "      <td>500.0</td>\n",
              "      <td>4.0</td>\n",
              "      <td>NaN</td>\n",
              "      <td>200.0</td>\n",
              "    </tr>\n",
              "    <tr>\n",
              "      <th>9</th>\n",
              "      <td>12/01/2023</td>\n",
              "      <td>5779.0</td>\n",
              "      <td>12/01/2023</td>\n",
              "      <td>recarga</td>\n",
              "      <td>38.0</td>\n",
              "      <td>200.0</td>\n",
              "      <td>1.0</td>\n",
              "      <td>1.0</td>\n",
              "      <td>30.0</td>\n",
              "    </tr>\n",
              "  </tbody>\n",
              "</table>\n",
              "</div>\n",
              "      <button class=\"colab-df-convert\" onclick=\"convertToInteractive('df-cf72fa7d-2256-424c-815d-5ea878c04d5d')\"\n",
              "              title=\"Convert this dataframe to an interactive table.\"\n",
              "              style=\"display:none;\">\n",
              "        \n",
              "  <svg xmlns=\"http://www.w3.org/2000/svg\" height=\"24px\"viewBox=\"0 0 24 24\"\n",
              "       width=\"24px\">\n",
              "    <path d=\"M0 0h24v24H0V0z\" fill=\"none\"/>\n",
              "    <path d=\"M18.56 5.44l.94 2.06.94-2.06 2.06-.94-2.06-.94-.94-2.06-.94 2.06-2.06.94zm-11 1L8.5 8.5l.94-2.06 2.06-.94-2.06-.94L8.5 2.5l-.94 2.06-2.06.94zm10 10l.94 2.06.94-2.06 2.06-.94-2.06-.94-.94-2.06-.94 2.06-2.06.94z\"/><path d=\"M17.41 7.96l-1.37-1.37c-.4-.4-.92-.59-1.43-.59-.52 0-1.04.2-1.43.59L10.3 9.45l-7.72 7.72c-.78.78-.78 2.05 0 2.83L4 21.41c.39.39.9.59 1.41.59.51 0 1.02-.2 1.41-.59l7.78-7.78 2.81-2.81c.8-.78.8-2.07 0-2.86zM5.41 20L4 18.59l7.72-7.72 1.47 1.35L5.41 20z\"/>\n",
              "  </svg>\n",
              "      </button>\n",
              "      \n",
              "  <style>\n",
              "    .colab-df-container {\n",
              "      display:flex;\n",
              "      flex-wrap:wrap;\n",
              "      gap: 12px;\n",
              "    }\n",
              "\n",
              "    .colab-df-convert {\n",
              "      background-color: #E8F0FE;\n",
              "      border: none;\n",
              "      border-radius: 50%;\n",
              "      cursor: pointer;\n",
              "      display: none;\n",
              "      fill: #1967D2;\n",
              "      height: 32px;\n",
              "      padding: 0 0 0 0;\n",
              "      width: 32px;\n",
              "    }\n",
              "\n",
              "    .colab-df-convert:hover {\n",
              "      background-color: #E2EBFA;\n",
              "      box-shadow: 0px 1px 2px rgba(60, 64, 67, 0.3), 0px 1px 3px 1px rgba(60, 64, 67, 0.15);\n",
              "      fill: #174EA6;\n",
              "    }\n",
              "\n",
              "    [theme=dark] .colab-df-convert {\n",
              "      background-color: #3B4455;\n",
              "      fill: #D2E3FC;\n",
              "    }\n",
              "\n",
              "    [theme=dark] .colab-df-convert:hover {\n",
              "      background-color: #434B5C;\n",
              "      box-shadow: 0px 1px 3px 1px rgba(0, 0, 0, 0.15);\n",
              "      filter: drop-shadow(0px 1px 2px rgba(0, 0, 0, 0.3));\n",
              "      fill: #FFFFFF;\n",
              "    }\n",
              "  </style>\n",
              "\n",
              "      <script>\n",
              "        const buttonEl =\n",
              "          document.querySelector('#df-cf72fa7d-2256-424c-815d-5ea878c04d5d button.colab-df-convert');\n",
              "        buttonEl.style.display =\n",
              "          google.colab.kernel.accessAllowed ? 'block' : 'none';\n",
              "\n",
              "        async function convertToInteractive(key) {\n",
              "          const element = document.querySelector('#df-cf72fa7d-2256-424c-815d-5ea878c04d5d');\n",
              "          const dataTable =\n",
              "            await google.colab.kernel.invokeFunction('convertToInteractive',\n",
              "                                                     [key], {});\n",
              "          if (!dataTable) return;\n",
              "\n",
              "          const docLinkHtml = 'Like what you see? Visit the ' +\n",
              "            '<a target=\"_blank\" href=https://colab.research.google.com/notebooks/data_table.ipynb>data table notebook</a>'\n",
              "            + ' to learn more about interactive tables.';\n",
              "          element.innerHTML = '';\n",
              "          dataTable['output_type'] = 'display_data';\n",
              "          await google.colab.output.renderOutput(dataTable, element);\n",
              "          const docLink = document.createElement('div');\n",
              "          docLink.innerHTML = docLinkHtml;\n",
              "          element.appendChild(docLink);\n",
              "        }\n",
              "      </script>\n",
              "    </div>\n",
              "  </div>\n",
              "  "
            ]
          },
          "metadata": {},
          "execution_count": 2
        }
      ]
    },
    {
      "cell_type": "code",
      "source": [
        "# Obteniendo Información sobre el Dataset\n",
        "datos.info()"
      ],
      "metadata": {
        "colab": {
          "base_uri": "https://localhost:8080/"
        },
        "id": "ewnNU3TIY0Py",
        "outputId": "16fe9b39-5077-42a4-fcd3-6997e86b4913"
      },
      "execution_count": null,
      "outputs": [
        {
          "output_type": "stream",
          "name": "stdout",
          "text": [
            "<class 'pandas.core.frame.DataFrame'>\n",
            "RangeIndex: 45000 entries, 0 to 44999\n",
            "Data columns (total 9 columns):\n",
            " #   Column             Non-Null Count  Dtype  \n",
            "---  ------             --------------  -----  \n",
            " 0   fecha_transaccion  40482 non-null  object \n",
            " 1   id_sim             40602 non-null  float64\n",
            " 2   fecha_activacion   40560 non-null  object \n",
            " 3   tipo_transaccion   40473 non-null  object \n",
            " 4   id_vendedor        40532 non-null  float64\n",
            " 5   precio_de_venta    40544 non-null  float64\n",
            " 6   bodega             40589 non-null  float64\n",
            " 7   id_company         40413 non-null  float64\n",
            " 8   costo_venta        40586 non-null  float64\n",
            "dtypes: float64(6), object(3)\n",
            "memory usage: 3.1+ MB\n"
          ]
        }
      ]
    },
    {
      "cell_type": "markdown",
      "source": [
        "- Existen 45 mil registros\n",
        "- La cantidad de datos nulos para cada columna es alrededor de 5 mil registros.\n",
        "- Algunos tipos de datos conviene reespecificarlos.\n",
        "- Los nombres de las columnas no tienen caracteres especiales por lo que no hay que modificarlos."
      ],
      "metadata": {
        "id": "9axFPjRsaJ83"
      }
    },
    {
      "cell_type": "markdown",
      "source": [
        "Contexto de los datos:\n",
        "Base de datos de las transacciones de una compañia telefónica correspondientes a adquisiciones de nuevas SIM así como recargas de saldo.\n",
        "- fecha_transacción: fecha en que se llevó a cabo la transacción.\n",
        "- id_sim: identificador asociado a la SIM para la que se realizó la transacción.\n",
        "- fecha_activacion: fecha en que se llevó a cabo la activación de la SIM.\n",
        "- tipo_transaccion: si se trata de una activación o de una recarga de saldo.\n",
        "- id_vendedor: identificador del vendedor que realizó la transacción.\n",
        "- precio_de_venta: precio de la transacción al público.\n",
        "- bodega: identificador de la bodega.\n",
        "- id_company: identificador de la compañia donde se llevó a cabo la transacción.\n",
        "- costo_venta: cuanto le cuesta a la empresa realizar la transacción.\n",
        "\n"
      ],
      "metadata": {
        "id": "MqHHRjyT8sC3"
      }
    },
    {
      "cell_type": "markdown",
      "source": [
        "Considero que la información que se puede obtener va relacionada con las fechas de transacción y los precios/costos de venta."
      ],
      "metadata": {
        "id": "RupOKstS6xaP"
      }
    },
    {
      "cell_type": "code",
      "source": [
        "# Creando una copia del dataset original para comenzar la limpieza de datos\n",
        "data_clean = datos"
      ],
      "metadata": {
        "id": "T3zfk79yZEHz"
      },
      "execution_count": null,
      "outputs": []
    },
    {
      "cell_type": "code",
      "source": [
        "# Buscando si hay registros duplicados\n",
        "data_clean.duplicated().value_counts()"
      ],
      "metadata": {
        "colab": {
          "base_uri": "https://localhost:8080/"
        },
        "id": "t8tVj5UshZ35",
        "outputId": "a9b6c7f9-cabb-4484-92aa-8a6da28bffe9"
      },
      "execution_count": null,
      "outputs": [
        {
          "output_type": "execute_result",
          "data": {
            "text/plain": [
              "False    45000\n",
              "dtype: int64"
            ]
          },
          "metadata": {},
          "execution_count": 5
        }
      ]
    },
    {
      "cell_type": "markdown",
      "source": [
        "- No hay registros duplicados."
      ],
      "metadata": {
        "id": "tTO1WnHUjAXZ"
      }
    },
    {
      "cell_type": "markdown",
      "source": [
        "### Tratamiento de valores nulos"
      ],
      "metadata": {
        "id": "3KZtqB6VnzPR"
      }
    },
    {
      "cell_type": "markdown",
      "source": [
        "Suponiendo que la situación se ha comunicado con la empresa y no hay posibilidad de obtener los valores faltantes...\n",
        "\n",
        "La estrategia elegida es tratar de borrar la menor cantidad de datos posible, es por que ello que sólo se borraran:\n",
        "- Los registros que no tengan fecha de transacción.\n",
        "- Los registros que no tengan precio de venta o costo de venta.\n",
        "- Los registros que tengan 3 o más columnas con valores nulos."
      ],
      "metadata": {
        "id": "Cbf3DSeOrAHH"
      }
    },
    {
      "cell_type": "code",
      "source": [
        "# Eliminando registros sin fecha de transacción\n",
        "data_clean = data_clean.dropna(subset='fecha_transaccion')\n",
        "# Comprobando cuantos registros quedaron en el dataset (fila,columnas)\n",
        "data_clean.shape"
      ],
      "metadata": {
        "colab": {
          "base_uri": "https://localhost:8080/"
        },
        "id": "6NJTlZuHNA9w",
        "outputId": "67f9e634-f25a-4fb4-9ad3-cc05a866b601"
      },
      "execution_count": null,
      "outputs": [
        {
          "output_type": "execute_result",
          "data": {
            "text/plain": [
              "(40482, 9)"
            ]
          },
          "metadata": {},
          "execution_count": 6
        }
      ]
    },
    {
      "cell_type": "code",
      "source": [
        "# Eliminando registros sin costo y precio de venta\n",
        "data_clean = data_clean.dropna(subset=['precio_de_venta','costo_venta'])\n",
        "# Comprobando cuantos registros quedaron en el dataset (fila,columnas)\n",
        "data_clean.shape"
      ],
      "metadata": {
        "colab": {
          "base_uri": "https://localhost:8080/"
        },
        "id": "pCj2ytdR4y_M",
        "outputId": "0eb64ec6-9acf-406b-a665-42c149e51505"
      },
      "execution_count": null,
      "outputs": [
        {
          "output_type": "execute_result",
          "data": {
            "text/plain": [
              "(32925, 9)"
            ]
          },
          "metadata": {},
          "execution_count": 7
        }
      ]
    },
    {
      "cell_type": "code",
      "source": [
        "# Eliminando registros con 3 o más columnas con valores nulos\n",
        "data_clean = data_clean.dropna(thresh=3)\n",
        "# Comprobando cuantos registros quedaron en el dataset (fila,columnas)\n",
        "data_clean.shape"
      ],
      "metadata": {
        "colab": {
          "base_uri": "https://localhost:8080/"
        },
        "id": "PZscZ4qiIoTa",
        "outputId": "2213fab7-3563-44ac-e7d6-d5c4d09395ab"
      },
      "execution_count": null,
      "outputs": [
        {
          "output_type": "execute_result",
          "data": {
            "text/plain": [
              "(32925, 9)"
            ]
          },
          "metadata": {},
          "execution_count": 8
        }
      ]
    },
    {
      "cell_type": "markdown",
      "source": [
        "Después de esta limpieza nos hemos quedado con 32925 registros, lo que representa un 73% del dataset original.\n",
        "\n",
        "Considero que es una buena cantidad de datos y que sirve para hacer análisis de datos significativo."
      ],
      "metadata": {
        "id": "h9es4VgyJxr1"
      }
    },
    {
      "cell_type": "code",
      "source": [
        "# Observando a la columna id_company\n",
        "data_clean.id_company.describe()"
      ],
      "metadata": {
        "colab": {
          "base_uri": "https://localhost:8080/"
        },
        "id": "dTA7ZCPpLqGp",
        "outputId": "a86b1aa6-622b-4c78-ac07-b687a5c036a9"
      },
      "execution_count": null,
      "outputs": [
        {
          "output_type": "execute_result",
          "data": {
            "text/plain": [
              "count    29611.0\n",
              "mean         1.0\n",
              "std          0.0\n",
              "min          1.0\n",
              "25%          1.0\n",
              "50%          1.0\n",
              "75%          1.0\n",
              "max          1.0\n",
              "Name: id_company, dtype: float64"
            ]
          },
          "metadata": {},
          "execution_count": 9
        }
      ]
    },
    {
      "cell_type": "code",
      "source": [
        "# Verificando valores nulos de id_company\n",
        "data_clean.id_company.isnull().sum()"
      ],
      "metadata": {
        "colab": {
          "base_uri": "https://localhost:8080/"
        },
        "id": "VCRoj1DhL1F7",
        "outputId": "eef532a7-30ac-4f09-df9f-0b4d9d43ca87"
      },
      "execution_count": null,
      "outputs": [
        {
          "output_type": "execute_result",
          "data": {
            "text/plain": [
              "3314"
            ]
          },
          "metadata": {},
          "execution_count": 10
        }
      ]
    },
    {
      "cell_type": "markdown",
      "source": [
        "- Existen alrededor de 3 mil registros nulos pero todo apunta a que la columna id_company sólo tiene el valor de 1, lo que significa que toda la base de datos corresponde a las transacciones de dicha compañia, con el proposito de no seguir eliminando valores nulos podemos tener dos enfoques:\n",
        "1. Elimnar la fila teniendo en cuenta que todos los datos corresponden a la compañia con ID 1.\n",
        "2. Rellenar los datos de la columna para uniformizarlos al valor de 1.\n",
        "\n",
        "Me decido por suponer que toda los datos corresponden a la compañía 1 elimino la columna para no entorpecer el análisis posterior."
      ],
      "metadata": {
        "id": "MY3YYW2oMBKD"
      }
    },
    {
      "cell_type": "code",
      "source": [
        "# Eliminando la columna id_company\n",
        "data_clean = data_clean.drop(['id_company'], axis=1)\n",
        "data_clean.head()"
      ],
      "metadata": {
        "colab": {
          "base_uri": "https://localhost:8080/",
          "height": 206
        },
        "id": "NsR-FIrkMQ8r",
        "outputId": "1f341b43-2523-4224-ee57-e82bb818db6d"
      },
      "execution_count": null,
      "outputs": [
        {
          "output_type": "execute_result",
          "data": {
            "text/plain": [
              "  fecha_transaccion  id_sim fecha_activacion tipo_transaccion  id_vendedor  \\\n",
              "0        02/03/2023     NaN       26/08/2022             alta          1.0   \n",
              "1        20/03/2023  3966.0       04/02/2023             alta         42.0   \n",
              "2        28/04/2023  2798.0       06/03/2023             alta         32.0   \n",
              "3        05/05/2023  3062.0       05/09/2022             alta         39.0   \n",
              "7        14/02/2023  8705.0              NaN             alta          NaN   \n",
              "\n",
              "   precio_de_venta  bodega  costo_venta  \n",
              "0            100.0     3.0        200.0  \n",
              "1           5000.0     3.0        100.0  \n",
              "2            200.0     5.0        230.0  \n",
              "3           5000.0     1.0        200.0  \n",
              "7            100.0     1.0        500.0  "
            ],
            "text/html": [
              "\n",
              "  <div id=\"df-4c66963d-a14d-4176-8767-3e95506d6f50\">\n",
              "    <div class=\"colab-df-container\">\n",
              "      <div>\n",
              "<style scoped>\n",
              "    .dataframe tbody tr th:only-of-type {\n",
              "        vertical-align: middle;\n",
              "    }\n",
              "\n",
              "    .dataframe tbody tr th {\n",
              "        vertical-align: top;\n",
              "    }\n",
              "\n",
              "    .dataframe thead th {\n",
              "        text-align: right;\n",
              "    }\n",
              "</style>\n",
              "<table border=\"1\" class=\"dataframe\">\n",
              "  <thead>\n",
              "    <tr style=\"text-align: right;\">\n",
              "      <th></th>\n",
              "      <th>fecha_transaccion</th>\n",
              "      <th>id_sim</th>\n",
              "      <th>fecha_activacion</th>\n",
              "      <th>tipo_transaccion</th>\n",
              "      <th>id_vendedor</th>\n",
              "      <th>precio_de_venta</th>\n",
              "      <th>bodega</th>\n",
              "      <th>costo_venta</th>\n",
              "    </tr>\n",
              "  </thead>\n",
              "  <tbody>\n",
              "    <tr>\n",
              "      <th>0</th>\n",
              "      <td>02/03/2023</td>\n",
              "      <td>NaN</td>\n",
              "      <td>26/08/2022</td>\n",
              "      <td>alta</td>\n",
              "      <td>1.0</td>\n",
              "      <td>100.0</td>\n",
              "      <td>3.0</td>\n",
              "      <td>200.0</td>\n",
              "    </tr>\n",
              "    <tr>\n",
              "      <th>1</th>\n",
              "      <td>20/03/2023</td>\n",
              "      <td>3966.0</td>\n",
              "      <td>04/02/2023</td>\n",
              "      <td>alta</td>\n",
              "      <td>42.0</td>\n",
              "      <td>5000.0</td>\n",
              "      <td>3.0</td>\n",
              "      <td>100.0</td>\n",
              "    </tr>\n",
              "    <tr>\n",
              "      <th>2</th>\n",
              "      <td>28/04/2023</td>\n",
              "      <td>2798.0</td>\n",
              "      <td>06/03/2023</td>\n",
              "      <td>alta</td>\n",
              "      <td>32.0</td>\n",
              "      <td>200.0</td>\n",
              "      <td>5.0</td>\n",
              "      <td>230.0</td>\n",
              "    </tr>\n",
              "    <tr>\n",
              "      <th>3</th>\n",
              "      <td>05/05/2023</td>\n",
              "      <td>3062.0</td>\n",
              "      <td>05/09/2022</td>\n",
              "      <td>alta</td>\n",
              "      <td>39.0</td>\n",
              "      <td>5000.0</td>\n",
              "      <td>1.0</td>\n",
              "      <td>200.0</td>\n",
              "    </tr>\n",
              "    <tr>\n",
              "      <th>7</th>\n",
              "      <td>14/02/2023</td>\n",
              "      <td>8705.0</td>\n",
              "      <td>NaN</td>\n",
              "      <td>alta</td>\n",
              "      <td>NaN</td>\n",
              "      <td>100.0</td>\n",
              "      <td>1.0</td>\n",
              "      <td>500.0</td>\n",
              "    </tr>\n",
              "  </tbody>\n",
              "</table>\n",
              "</div>\n",
              "      <button class=\"colab-df-convert\" onclick=\"convertToInteractive('df-4c66963d-a14d-4176-8767-3e95506d6f50')\"\n",
              "              title=\"Convert this dataframe to an interactive table.\"\n",
              "              style=\"display:none;\">\n",
              "        \n",
              "  <svg xmlns=\"http://www.w3.org/2000/svg\" height=\"24px\"viewBox=\"0 0 24 24\"\n",
              "       width=\"24px\">\n",
              "    <path d=\"M0 0h24v24H0V0z\" fill=\"none\"/>\n",
              "    <path d=\"M18.56 5.44l.94 2.06.94-2.06 2.06-.94-2.06-.94-.94-2.06-.94 2.06-2.06.94zm-11 1L8.5 8.5l.94-2.06 2.06-.94-2.06-.94L8.5 2.5l-.94 2.06-2.06.94zm10 10l.94 2.06.94-2.06 2.06-.94-2.06-.94-.94-2.06-.94 2.06-2.06.94z\"/><path d=\"M17.41 7.96l-1.37-1.37c-.4-.4-.92-.59-1.43-.59-.52 0-1.04.2-1.43.59L10.3 9.45l-7.72 7.72c-.78.78-.78 2.05 0 2.83L4 21.41c.39.39.9.59 1.41.59.51 0 1.02-.2 1.41-.59l7.78-7.78 2.81-2.81c.8-.78.8-2.07 0-2.86zM5.41 20L4 18.59l7.72-7.72 1.47 1.35L5.41 20z\"/>\n",
              "  </svg>\n",
              "      </button>\n",
              "      \n",
              "  <style>\n",
              "    .colab-df-container {\n",
              "      display:flex;\n",
              "      flex-wrap:wrap;\n",
              "      gap: 12px;\n",
              "    }\n",
              "\n",
              "    .colab-df-convert {\n",
              "      background-color: #E8F0FE;\n",
              "      border: none;\n",
              "      border-radius: 50%;\n",
              "      cursor: pointer;\n",
              "      display: none;\n",
              "      fill: #1967D2;\n",
              "      height: 32px;\n",
              "      padding: 0 0 0 0;\n",
              "      width: 32px;\n",
              "    }\n",
              "\n",
              "    .colab-df-convert:hover {\n",
              "      background-color: #E2EBFA;\n",
              "      box-shadow: 0px 1px 2px rgba(60, 64, 67, 0.3), 0px 1px 3px 1px rgba(60, 64, 67, 0.15);\n",
              "      fill: #174EA6;\n",
              "    }\n",
              "\n",
              "    [theme=dark] .colab-df-convert {\n",
              "      background-color: #3B4455;\n",
              "      fill: #D2E3FC;\n",
              "    }\n",
              "\n",
              "    [theme=dark] .colab-df-convert:hover {\n",
              "      background-color: #434B5C;\n",
              "      box-shadow: 0px 1px 3px 1px rgba(0, 0, 0, 0.15);\n",
              "      filter: drop-shadow(0px 1px 2px rgba(0, 0, 0, 0.3));\n",
              "      fill: #FFFFFF;\n",
              "    }\n",
              "  </style>\n",
              "\n",
              "      <script>\n",
              "        const buttonEl =\n",
              "          document.querySelector('#df-4c66963d-a14d-4176-8767-3e95506d6f50 button.colab-df-convert');\n",
              "        buttonEl.style.display =\n",
              "          google.colab.kernel.accessAllowed ? 'block' : 'none';\n",
              "\n",
              "        async function convertToInteractive(key) {\n",
              "          const element = document.querySelector('#df-4c66963d-a14d-4176-8767-3e95506d6f50');\n",
              "          const dataTable =\n",
              "            await google.colab.kernel.invokeFunction('convertToInteractive',\n",
              "                                                     [key], {});\n",
              "          if (!dataTable) return;\n",
              "\n",
              "          const docLinkHtml = 'Like what you see? Visit the ' +\n",
              "            '<a target=\"_blank\" href=https://colab.research.google.com/notebooks/data_table.ipynb>data table notebook</a>'\n",
              "            + ' to learn more about interactive tables.';\n",
              "          element.innerHTML = '';\n",
              "          dataTable['output_type'] = 'display_data';\n",
              "          await google.colab.output.renderOutput(dataTable, element);\n",
              "          const docLink = document.createElement('div');\n",
              "          docLink.innerHTML = docLinkHtml;\n",
              "          element.appendChild(docLink);\n",
              "        }\n",
              "      </script>\n",
              "    </div>\n",
              "  </div>\n",
              "  "
            ]
          },
          "metadata": {},
          "execution_count": 11
        }
      ]
    },
    {
      "cell_type": "markdown",
      "source": [
        "Los valores nulos para las demás filas serán rellenados con algún valor de referencia que no afecte el análisis."
      ],
      "metadata": {
        "id": "D7qxg7-HNXmc"
      }
    },
    {
      "cell_type": "code",
      "source": [
        "# Para el caso del id_sim a los registros nulos se les asignará un cero (significa no especificado)\n",
        "data_clean.id_sim = data_clean.id_sim.fillna(0)\n",
        "# Comprobando si existen aún valores nulos\n",
        "data_clean.id_sim.isnull().sum()"
      ],
      "metadata": {
        "colab": {
          "base_uri": "https://localhost:8080/"
        },
        "id": "aIbngE7INN15",
        "outputId": "6f3077a4-af76-430d-f189-8115c9764aaf"
      },
      "execution_count": null,
      "outputs": [
        {
          "output_type": "execute_result",
          "data": {
            "text/plain": [
              "0"
            ]
          },
          "metadata": {},
          "execution_count": 12
        }
      ]
    },
    {
      "cell_type": "code",
      "source": [
        "# Para el caso del id_vendedor a los registros nulos se les asignará un cero (significa no especificado)\n",
        "data_clean.id_vendedor = data_clean.id_vendedor.fillna(0)\n",
        "# Comprobando si existen aún valores nulos\n",
        "data_clean.id_vendedor.isnull().sum()"
      ],
      "metadata": {
        "colab": {
          "base_uri": "https://localhost:8080/"
        },
        "id": "dE5hLnIlN10b",
        "outputId": "2c36e187-cbdc-4f29-8966-6167e07caed3"
      },
      "execution_count": null,
      "outputs": [
        {
          "output_type": "execute_result",
          "data": {
            "text/plain": [
              "0"
            ]
          },
          "metadata": {},
          "execution_count": 13
        }
      ]
    },
    {
      "cell_type": "code",
      "source": [
        "# Para el caso de la bodega a los registros nulos se les asignará un cero (significa no especificado)\n",
        "data_clean.bodega = data_clean.bodega.fillna(0)\n",
        "# Comprobando si existen aún valores nulos\n",
        "data_clean.bodega.isnull().sum()"
      ],
      "metadata": {
        "colab": {
          "base_uri": "https://localhost:8080/"
        },
        "id": "2r8slHNDOISd",
        "outputId": "42caeea9-cc1a-406d-81bd-ac636ee56e8b"
      },
      "execution_count": null,
      "outputs": [
        {
          "output_type": "execute_result",
          "data": {
            "text/plain": [
              "0"
            ]
          },
          "metadata": {},
          "execution_count": 14
        }
      ]
    },
    {
      "cell_type": "code",
      "source": [
        "# Para el caso del tipo de transacción a los registros nulos se les asignará un NE (no especificado)\n",
        "data_clean.tipo_transaccion = data_clean.tipo_transaccion.fillna('NE')\n",
        "# Comprobando si existen aún valores nulos\n",
        "data_clean.bodega.isnull().sum()"
      ],
      "metadata": {
        "colab": {
          "base_uri": "https://localhost:8080/"
        },
        "id": "LTBwrmrSPrrJ",
        "outputId": "21757552-ac22-43d0-b18a-2d0059384933"
      },
      "execution_count": null,
      "outputs": [
        {
          "output_type": "execute_result",
          "data": {
            "text/plain": [
              "0"
            ]
          },
          "metadata": {},
          "execution_count": 15
        }
      ]
    },
    {
      "cell_type": "markdown",
      "source": [
        "Para el caso de la fecha de activación, esta no se modificará en caso de tener valores nulos."
      ],
      "metadata": {
        "id": "SvTLe89DQGNK"
      }
    },
    {
      "cell_type": "code",
      "source": [
        "# Observando como queda nuestro dataset\n",
        "data_clean.sample(11)"
      ],
      "metadata": {
        "colab": {
          "base_uri": "https://localhost:8080/",
          "height": 394
        },
        "id": "zi1-UC86QLxu",
        "outputId": "d11050de-c797-43e6-c021-7469638bff90"
      },
      "execution_count": null,
      "outputs": [
        {
          "output_type": "execute_result",
          "data": {
            "text/plain": [
              "      fecha_transaccion  id_sim fecha_activacion tipo_transaccion  \\\n",
              "31018        04/02/2023  7126.0              NaN             alta   \n",
              "9809         08/03/2023  5840.0       11/01/2023             alta   \n",
              "29964        27/02/2023  1741.0       27/02/2023             alta   \n",
              "10696        12/02/2023  2325.0       12/02/2023               NE   \n",
              "30946        05/04/2023     0.0       10/10/2022          recarga   \n",
              "43822        13/04/2023  6738.0       23/02/2023          recarga   \n",
              "42318        18/01/2023  8291.0       14/11/2022             alta   \n",
              "13438        19/04/2023  5109.0       21/10/2022             alta   \n",
              "15847        06/04/2023  3220.0       06/04/2023          recarga   \n",
              "17307        14/04/2023  4292.0       27/10/2022          recarga   \n",
              "22472        01/03/2023     0.0       02/02/2023          recarga   \n",
              "\n",
              "       id_vendedor  precio_de_venta  bodega  costo_venta  \n",
              "31018         28.0             50.0     5.0        500.0  \n",
              "9809          21.0             50.0     1.0        200.0  \n",
              "29964         47.0             50.0     2.0        500.0  \n",
              "10696         38.0            100.0     3.0        200.0  \n",
              "30946         22.0            200.0     3.0        200.0  \n",
              "43822         26.0            500.0     2.0        200.0  \n",
              "42318         14.0            200.0     5.0        100.0  \n",
              "13438          0.0             50.0     2.0        200.0  \n",
              "15847         28.0           5000.0     5.0        200.0  \n",
              "17307         44.0            200.0     1.0         30.0  \n",
              "22472         18.0            100.0     1.0        500.0  "
            ],
            "text/html": [
              "\n",
              "  <div id=\"df-ce39766a-1026-47af-9bb3-85720da29896\">\n",
              "    <div class=\"colab-df-container\">\n",
              "      <div>\n",
              "<style scoped>\n",
              "    .dataframe tbody tr th:only-of-type {\n",
              "        vertical-align: middle;\n",
              "    }\n",
              "\n",
              "    .dataframe tbody tr th {\n",
              "        vertical-align: top;\n",
              "    }\n",
              "\n",
              "    .dataframe thead th {\n",
              "        text-align: right;\n",
              "    }\n",
              "</style>\n",
              "<table border=\"1\" class=\"dataframe\">\n",
              "  <thead>\n",
              "    <tr style=\"text-align: right;\">\n",
              "      <th></th>\n",
              "      <th>fecha_transaccion</th>\n",
              "      <th>id_sim</th>\n",
              "      <th>fecha_activacion</th>\n",
              "      <th>tipo_transaccion</th>\n",
              "      <th>id_vendedor</th>\n",
              "      <th>precio_de_venta</th>\n",
              "      <th>bodega</th>\n",
              "      <th>costo_venta</th>\n",
              "    </tr>\n",
              "  </thead>\n",
              "  <tbody>\n",
              "    <tr>\n",
              "      <th>31018</th>\n",
              "      <td>04/02/2023</td>\n",
              "      <td>7126.0</td>\n",
              "      <td>NaN</td>\n",
              "      <td>alta</td>\n",
              "      <td>28.0</td>\n",
              "      <td>50.0</td>\n",
              "      <td>5.0</td>\n",
              "      <td>500.0</td>\n",
              "    </tr>\n",
              "    <tr>\n",
              "      <th>9809</th>\n",
              "      <td>08/03/2023</td>\n",
              "      <td>5840.0</td>\n",
              "      <td>11/01/2023</td>\n",
              "      <td>alta</td>\n",
              "      <td>21.0</td>\n",
              "      <td>50.0</td>\n",
              "      <td>1.0</td>\n",
              "      <td>200.0</td>\n",
              "    </tr>\n",
              "    <tr>\n",
              "      <th>29964</th>\n",
              "      <td>27/02/2023</td>\n",
              "      <td>1741.0</td>\n",
              "      <td>27/02/2023</td>\n",
              "      <td>alta</td>\n",
              "      <td>47.0</td>\n",
              "      <td>50.0</td>\n",
              "      <td>2.0</td>\n",
              "      <td>500.0</td>\n",
              "    </tr>\n",
              "    <tr>\n",
              "      <th>10696</th>\n",
              "      <td>12/02/2023</td>\n",
              "      <td>2325.0</td>\n",
              "      <td>12/02/2023</td>\n",
              "      <td>NE</td>\n",
              "      <td>38.0</td>\n",
              "      <td>100.0</td>\n",
              "      <td>3.0</td>\n",
              "      <td>200.0</td>\n",
              "    </tr>\n",
              "    <tr>\n",
              "      <th>30946</th>\n",
              "      <td>05/04/2023</td>\n",
              "      <td>0.0</td>\n",
              "      <td>10/10/2022</td>\n",
              "      <td>recarga</td>\n",
              "      <td>22.0</td>\n",
              "      <td>200.0</td>\n",
              "      <td>3.0</td>\n",
              "      <td>200.0</td>\n",
              "    </tr>\n",
              "    <tr>\n",
              "      <th>43822</th>\n",
              "      <td>13/04/2023</td>\n",
              "      <td>6738.0</td>\n",
              "      <td>23/02/2023</td>\n",
              "      <td>recarga</td>\n",
              "      <td>26.0</td>\n",
              "      <td>500.0</td>\n",
              "      <td>2.0</td>\n",
              "      <td>200.0</td>\n",
              "    </tr>\n",
              "    <tr>\n",
              "      <th>42318</th>\n",
              "      <td>18/01/2023</td>\n",
              "      <td>8291.0</td>\n",
              "      <td>14/11/2022</td>\n",
              "      <td>alta</td>\n",
              "      <td>14.0</td>\n",
              "      <td>200.0</td>\n",
              "      <td>5.0</td>\n",
              "      <td>100.0</td>\n",
              "    </tr>\n",
              "    <tr>\n",
              "      <th>13438</th>\n",
              "      <td>19/04/2023</td>\n",
              "      <td>5109.0</td>\n",
              "      <td>21/10/2022</td>\n",
              "      <td>alta</td>\n",
              "      <td>0.0</td>\n",
              "      <td>50.0</td>\n",
              "      <td>2.0</td>\n",
              "      <td>200.0</td>\n",
              "    </tr>\n",
              "    <tr>\n",
              "      <th>15847</th>\n",
              "      <td>06/04/2023</td>\n",
              "      <td>3220.0</td>\n",
              "      <td>06/04/2023</td>\n",
              "      <td>recarga</td>\n",
              "      <td>28.0</td>\n",
              "      <td>5000.0</td>\n",
              "      <td>5.0</td>\n",
              "      <td>200.0</td>\n",
              "    </tr>\n",
              "    <tr>\n",
              "      <th>17307</th>\n",
              "      <td>14/04/2023</td>\n",
              "      <td>4292.0</td>\n",
              "      <td>27/10/2022</td>\n",
              "      <td>recarga</td>\n",
              "      <td>44.0</td>\n",
              "      <td>200.0</td>\n",
              "      <td>1.0</td>\n",
              "      <td>30.0</td>\n",
              "    </tr>\n",
              "    <tr>\n",
              "      <th>22472</th>\n",
              "      <td>01/03/2023</td>\n",
              "      <td>0.0</td>\n",
              "      <td>02/02/2023</td>\n",
              "      <td>recarga</td>\n",
              "      <td>18.0</td>\n",
              "      <td>100.0</td>\n",
              "      <td>1.0</td>\n",
              "      <td>500.0</td>\n",
              "    </tr>\n",
              "  </tbody>\n",
              "</table>\n",
              "</div>\n",
              "      <button class=\"colab-df-convert\" onclick=\"convertToInteractive('df-ce39766a-1026-47af-9bb3-85720da29896')\"\n",
              "              title=\"Convert this dataframe to an interactive table.\"\n",
              "              style=\"display:none;\">\n",
              "        \n",
              "  <svg xmlns=\"http://www.w3.org/2000/svg\" height=\"24px\"viewBox=\"0 0 24 24\"\n",
              "       width=\"24px\">\n",
              "    <path d=\"M0 0h24v24H0V0z\" fill=\"none\"/>\n",
              "    <path d=\"M18.56 5.44l.94 2.06.94-2.06 2.06-.94-2.06-.94-.94-2.06-.94 2.06-2.06.94zm-11 1L8.5 8.5l.94-2.06 2.06-.94-2.06-.94L8.5 2.5l-.94 2.06-2.06.94zm10 10l.94 2.06.94-2.06 2.06-.94-2.06-.94-.94-2.06-.94 2.06-2.06.94z\"/><path d=\"M17.41 7.96l-1.37-1.37c-.4-.4-.92-.59-1.43-.59-.52 0-1.04.2-1.43.59L10.3 9.45l-7.72 7.72c-.78.78-.78 2.05 0 2.83L4 21.41c.39.39.9.59 1.41.59.51 0 1.02-.2 1.41-.59l7.78-7.78 2.81-2.81c.8-.78.8-2.07 0-2.86zM5.41 20L4 18.59l7.72-7.72 1.47 1.35L5.41 20z\"/>\n",
              "  </svg>\n",
              "      </button>\n",
              "      \n",
              "  <style>\n",
              "    .colab-df-container {\n",
              "      display:flex;\n",
              "      flex-wrap:wrap;\n",
              "      gap: 12px;\n",
              "    }\n",
              "\n",
              "    .colab-df-convert {\n",
              "      background-color: #E8F0FE;\n",
              "      border: none;\n",
              "      border-radius: 50%;\n",
              "      cursor: pointer;\n",
              "      display: none;\n",
              "      fill: #1967D2;\n",
              "      height: 32px;\n",
              "      padding: 0 0 0 0;\n",
              "      width: 32px;\n",
              "    }\n",
              "\n",
              "    .colab-df-convert:hover {\n",
              "      background-color: #E2EBFA;\n",
              "      box-shadow: 0px 1px 2px rgba(60, 64, 67, 0.3), 0px 1px 3px 1px rgba(60, 64, 67, 0.15);\n",
              "      fill: #174EA6;\n",
              "    }\n",
              "\n",
              "    [theme=dark] .colab-df-convert {\n",
              "      background-color: #3B4455;\n",
              "      fill: #D2E3FC;\n",
              "    }\n",
              "\n",
              "    [theme=dark] .colab-df-convert:hover {\n",
              "      background-color: #434B5C;\n",
              "      box-shadow: 0px 1px 3px 1px rgba(0, 0, 0, 0.15);\n",
              "      filter: drop-shadow(0px 1px 2px rgba(0, 0, 0, 0.3));\n",
              "      fill: #FFFFFF;\n",
              "    }\n",
              "  </style>\n",
              "\n",
              "      <script>\n",
              "        const buttonEl =\n",
              "          document.querySelector('#df-ce39766a-1026-47af-9bb3-85720da29896 button.colab-df-convert');\n",
              "        buttonEl.style.display =\n",
              "          google.colab.kernel.accessAllowed ? 'block' : 'none';\n",
              "\n",
              "        async function convertToInteractive(key) {\n",
              "          const element = document.querySelector('#df-ce39766a-1026-47af-9bb3-85720da29896');\n",
              "          const dataTable =\n",
              "            await google.colab.kernel.invokeFunction('convertToInteractive',\n",
              "                                                     [key], {});\n",
              "          if (!dataTable) return;\n",
              "\n",
              "          const docLinkHtml = 'Like what you see? Visit the ' +\n",
              "            '<a target=\"_blank\" href=https://colab.research.google.com/notebooks/data_table.ipynb>data table notebook</a>'\n",
              "            + ' to learn more about interactive tables.';\n",
              "          element.innerHTML = '';\n",
              "          dataTable['output_type'] = 'display_data';\n",
              "          await google.colab.output.renderOutput(dataTable, element);\n",
              "          const docLink = document.createElement('div');\n",
              "          docLink.innerHTML = docLinkHtml;\n",
              "          element.appendChild(docLink);\n",
              "        }\n",
              "      </script>\n",
              "    </div>\n",
              "  </div>\n",
              "  "
            ]
          },
          "metadata": {},
          "execution_count": 16
        }
      ]
    },
    {
      "cell_type": "code",
      "source": [
        "data_clean.info()"
      ],
      "metadata": {
        "colab": {
          "base_uri": "https://localhost:8080/"
        },
        "id": "ayMJY1OFQeG9",
        "outputId": "521acd04-161e-497b-9286-0663869309d8"
      },
      "execution_count": null,
      "outputs": [
        {
          "output_type": "stream",
          "name": "stdout",
          "text": [
            "<class 'pandas.core.frame.DataFrame'>\n",
            "Int64Index: 32925 entries, 0 to 44998\n",
            "Data columns (total 8 columns):\n",
            " #   Column             Non-Null Count  Dtype  \n",
            "---  ------             --------------  -----  \n",
            " 0   fecha_transaccion  32925 non-null  object \n",
            " 1   id_sim             32925 non-null  float64\n",
            " 2   fecha_activacion   29682 non-null  object \n",
            " 3   tipo_transaccion   32925 non-null  object \n",
            " 4   id_vendedor        32925 non-null  float64\n",
            " 5   precio_de_venta    32925 non-null  float64\n",
            " 6   bodega             32925 non-null  float64\n",
            " 7   costo_venta        32925 non-null  float64\n",
            "dtypes: float64(5), object(3)\n",
            "memory usage: 2.3+ MB\n"
          ]
        }
      ]
    },
    {
      "cell_type": "markdown",
      "source": [
        "Ahora se observan inconsistencias en los tipos de dato por lo que conviene realizar algunas modificaciones."
      ],
      "metadata": {
        "id": "JfV-Bj98Qixy"
      }
    },
    {
      "cell_type": "markdown",
      "source": [
        "### Transformación de tipos de dato"
      ],
      "metadata": {
        "id": "GJs-McXx19fA"
      }
    },
    {
      "cell_type": "code",
      "source": [
        "# Modificando los tipos de datos de las columnas para poder trabajar correctamente con ellas\n",
        "\n",
        "# Fechas como fechas\n",
        "data_clean['fecha_transaccion'] = pd.to_datetime(data_clean['fecha_transaccion'], format='%d/%m/%Y')\n",
        "data_clean['fecha_activacion'] = pd.to_datetime(data_clean['fecha_activacion'], format='%d/%m/%Y')\n",
        "\n",
        "# Identificadores como string (se considera buena práctica)\n",
        "# Primero se actualizan a entero\n",
        "data_clean['id_sim'] = data_clean['id_sim'].astype(int)\n",
        "data_clean['id_vendedor'] = data_clean['id_vendedor'].astype(int)\n",
        "data_clean['bodega'] = data_clean['bodega'].astype(int)\n",
        "# Luego se actualizan a string\n",
        "data_clean['id_sim'] = data_clean['id_sim'].astype(str)\n",
        "data_clean['id_vendedor'] = data_clean['id_vendedor'].astype(str)\n",
        "data_clean['bodega'] = data_clean['bodega'].astype(str)\n",
        "\n",
        "data_clean.info()"
      ],
      "metadata": {
        "colab": {
          "base_uri": "https://localhost:8080/"
        },
        "id": "khOgDk3a1ssH",
        "outputId": "5b37a726-73f9-4342-e48e-5ca707c08049"
      },
      "execution_count": null,
      "outputs": [
        {
          "output_type": "stream",
          "name": "stdout",
          "text": [
            "<class 'pandas.core.frame.DataFrame'>\n",
            "Int64Index: 32925 entries, 0 to 44998\n",
            "Data columns (total 8 columns):\n",
            " #   Column             Non-Null Count  Dtype         \n",
            "---  ------             --------------  -----         \n",
            " 0   fecha_transaccion  32925 non-null  datetime64[ns]\n",
            " 1   id_sim             32925 non-null  object        \n",
            " 2   fecha_activacion   29682 non-null  datetime64[ns]\n",
            " 3   tipo_transaccion   32925 non-null  object        \n",
            " 4   id_vendedor        32925 non-null  object        \n",
            " 5   precio_de_venta    32925 non-null  float64       \n",
            " 6   bodega             32925 non-null  object        \n",
            " 7   costo_venta        32925 non-null  float64       \n",
            "dtypes: datetime64[ns](2), float64(2), object(4)\n",
            "memory usage: 2.3+ MB\n"
          ]
        }
      ]
    },
    {
      "cell_type": "code",
      "source": [
        "# Comprobando si hay fechas invalidas -> mayores a la fecha actual\n",
        "\n",
        "fecha_actual = dt.date.today()\n",
        "#Validar si hay fechas de transaccion mayores a la actual\n",
        "data_clean[data_clean['fecha_transaccion'].dt.date>fecha_actual]"
      ],
      "metadata": {
        "colab": {
          "base_uri": "https://localhost:8080/",
          "height": 49
        },
        "id": "uuwIbd_11v_F",
        "outputId": "258b3850-d1b4-4281-a5e6-d81ac81cb40a"
      },
      "execution_count": null,
      "outputs": [
        {
          "output_type": "execute_result",
          "data": {
            "text/plain": [
              "Empty DataFrame\n",
              "Columns: [fecha_transaccion, id_sim, fecha_activacion, tipo_transaccion, id_vendedor, precio_de_venta, bodega, costo_venta]\n",
              "Index: []"
            ],
            "text/html": [
              "\n",
              "  <div id=\"df-d09e0d98-f663-4b7e-9710-394398b88b53\">\n",
              "    <div class=\"colab-df-container\">\n",
              "      <div>\n",
              "<style scoped>\n",
              "    .dataframe tbody tr th:only-of-type {\n",
              "        vertical-align: middle;\n",
              "    }\n",
              "\n",
              "    .dataframe tbody tr th {\n",
              "        vertical-align: top;\n",
              "    }\n",
              "\n",
              "    .dataframe thead th {\n",
              "        text-align: right;\n",
              "    }\n",
              "</style>\n",
              "<table border=\"1\" class=\"dataframe\">\n",
              "  <thead>\n",
              "    <tr style=\"text-align: right;\">\n",
              "      <th></th>\n",
              "      <th>fecha_transaccion</th>\n",
              "      <th>id_sim</th>\n",
              "      <th>fecha_activacion</th>\n",
              "      <th>tipo_transaccion</th>\n",
              "      <th>id_vendedor</th>\n",
              "      <th>precio_de_venta</th>\n",
              "      <th>bodega</th>\n",
              "      <th>costo_venta</th>\n",
              "    </tr>\n",
              "  </thead>\n",
              "  <tbody>\n",
              "  </tbody>\n",
              "</table>\n",
              "</div>\n",
              "      <button class=\"colab-df-convert\" onclick=\"convertToInteractive('df-d09e0d98-f663-4b7e-9710-394398b88b53')\"\n",
              "              title=\"Convert this dataframe to an interactive table.\"\n",
              "              style=\"display:none;\">\n",
              "        \n",
              "  <svg xmlns=\"http://www.w3.org/2000/svg\" height=\"24px\"viewBox=\"0 0 24 24\"\n",
              "       width=\"24px\">\n",
              "    <path d=\"M0 0h24v24H0V0z\" fill=\"none\"/>\n",
              "    <path d=\"M18.56 5.44l.94 2.06.94-2.06 2.06-.94-2.06-.94-.94-2.06-.94 2.06-2.06.94zm-11 1L8.5 8.5l.94-2.06 2.06-.94-2.06-.94L8.5 2.5l-.94 2.06-2.06.94zm10 10l.94 2.06.94-2.06 2.06-.94-2.06-.94-.94-2.06-.94 2.06-2.06.94z\"/><path d=\"M17.41 7.96l-1.37-1.37c-.4-.4-.92-.59-1.43-.59-.52 0-1.04.2-1.43.59L10.3 9.45l-7.72 7.72c-.78.78-.78 2.05 0 2.83L4 21.41c.39.39.9.59 1.41.59.51 0 1.02-.2 1.41-.59l7.78-7.78 2.81-2.81c.8-.78.8-2.07 0-2.86zM5.41 20L4 18.59l7.72-7.72 1.47 1.35L5.41 20z\"/>\n",
              "  </svg>\n",
              "      </button>\n",
              "      \n",
              "  <style>\n",
              "    .colab-df-container {\n",
              "      display:flex;\n",
              "      flex-wrap:wrap;\n",
              "      gap: 12px;\n",
              "    }\n",
              "\n",
              "    .colab-df-convert {\n",
              "      background-color: #E8F0FE;\n",
              "      border: none;\n",
              "      border-radius: 50%;\n",
              "      cursor: pointer;\n",
              "      display: none;\n",
              "      fill: #1967D2;\n",
              "      height: 32px;\n",
              "      padding: 0 0 0 0;\n",
              "      width: 32px;\n",
              "    }\n",
              "\n",
              "    .colab-df-convert:hover {\n",
              "      background-color: #E2EBFA;\n",
              "      box-shadow: 0px 1px 2px rgba(60, 64, 67, 0.3), 0px 1px 3px 1px rgba(60, 64, 67, 0.15);\n",
              "      fill: #174EA6;\n",
              "    }\n",
              "\n",
              "    [theme=dark] .colab-df-convert {\n",
              "      background-color: #3B4455;\n",
              "      fill: #D2E3FC;\n",
              "    }\n",
              "\n",
              "    [theme=dark] .colab-df-convert:hover {\n",
              "      background-color: #434B5C;\n",
              "      box-shadow: 0px 1px 3px 1px rgba(0, 0, 0, 0.15);\n",
              "      filter: drop-shadow(0px 1px 2px rgba(0, 0, 0, 0.3));\n",
              "      fill: #FFFFFF;\n",
              "    }\n",
              "  </style>\n",
              "\n",
              "      <script>\n",
              "        const buttonEl =\n",
              "          document.querySelector('#df-d09e0d98-f663-4b7e-9710-394398b88b53 button.colab-df-convert');\n",
              "        buttonEl.style.display =\n",
              "          google.colab.kernel.accessAllowed ? 'block' : 'none';\n",
              "\n",
              "        async function convertToInteractive(key) {\n",
              "          const element = document.querySelector('#df-d09e0d98-f663-4b7e-9710-394398b88b53');\n",
              "          const dataTable =\n",
              "            await google.colab.kernel.invokeFunction('convertToInteractive',\n",
              "                                                     [key], {});\n",
              "          if (!dataTable) return;\n",
              "\n",
              "          const docLinkHtml = 'Like what you see? Visit the ' +\n",
              "            '<a target=\"_blank\" href=https://colab.research.google.com/notebooks/data_table.ipynb>data table notebook</a>'\n",
              "            + ' to learn more about interactive tables.';\n",
              "          element.innerHTML = '';\n",
              "          dataTable['output_type'] = 'display_data';\n",
              "          await google.colab.output.renderOutput(dataTable, element);\n",
              "          const docLink = document.createElement('div');\n",
              "          docLink.innerHTML = docLinkHtml;\n",
              "          element.appendChild(docLink);\n",
              "        }\n",
              "      </script>\n",
              "    </div>\n",
              "  </div>\n",
              "  "
            ]
          },
          "metadata": {},
          "execution_count": 20
        }
      ]
    },
    {
      "cell_type": "code",
      "source": [
        "#Validar si hay fechas de activacion mayores a la actual\n",
        "data_clean[data_clean['fecha_activacion'].dt.date>fecha_actual]"
      ],
      "metadata": {
        "colab": {
          "base_uri": "https://localhost:8080/",
          "height": 49
        },
        "id": "Z7VMH8IZ12E5",
        "outputId": "43a161ec-01a4-4c57-9455-7a3d649fbe0c"
      },
      "execution_count": null,
      "outputs": [
        {
          "output_type": "execute_result",
          "data": {
            "text/plain": [
              "Empty DataFrame\n",
              "Columns: [fecha_transaccion, id_sim, fecha_activacion, tipo_transaccion, id_vendedor, precio_de_venta, bodega, costo_venta]\n",
              "Index: []"
            ],
            "text/html": [
              "\n",
              "  <div id=\"df-41d48503-ea29-4c6d-b46a-861b891cd8ec\">\n",
              "    <div class=\"colab-df-container\">\n",
              "      <div>\n",
              "<style scoped>\n",
              "    .dataframe tbody tr th:only-of-type {\n",
              "        vertical-align: middle;\n",
              "    }\n",
              "\n",
              "    .dataframe tbody tr th {\n",
              "        vertical-align: top;\n",
              "    }\n",
              "\n",
              "    .dataframe thead th {\n",
              "        text-align: right;\n",
              "    }\n",
              "</style>\n",
              "<table border=\"1\" class=\"dataframe\">\n",
              "  <thead>\n",
              "    <tr style=\"text-align: right;\">\n",
              "      <th></th>\n",
              "      <th>fecha_transaccion</th>\n",
              "      <th>id_sim</th>\n",
              "      <th>fecha_activacion</th>\n",
              "      <th>tipo_transaccion</th>\n",
              "      <th>id_vendedor</th>\n",
              "      <th>precio_de_venta</th>\n",
              "      <th>bodega</th>\n",
              "      <th>costo_venta</th>\n",
              "    </tr>\n",
              "  </thead>\n",
              "  <tbody>\n",
              "  </tbody>\n",
              "</table>\n",
              "</div>\n",
              "      <button class=\"colab-df-convert\" onclick=\"convertToInteractive('df-41d48503-ea29-4c6d-b46a-861b891cd8ec')\"\n",
              "              title=\"Convert this dataframe to an interactive table.\"\n",
              "              style=\"display:none;\">\n",
              "        \n",
              "  <svg xmlns=\"http://www.w3.org/2000/svg\" height=\"24px\"viewBox=\"0 0 24 24\"\n",
              "       width=\"24px\">\n",
              "    <path d=\"M0 0h24v24H0V0z\" fill=\"none\"/>\n",
              "    <path d=\"M18.56 5.44l.94 2.06.94-2.06 2.06-.94-2.06-.94-.94-2.06-.94 2.06-2.06.94zm-11 1L8.5 8.5l.94-2.06 2.06-.94-2.06-.94L8.5 2.5l-.94 2.06-2.06.94zm10 10l.94 2.06.94-2.06 2.06-.94-2.06-.94-.94-2.06-.94 2.06-2.06.94z\"/><path d=\"M17.41 7.96l-1.37-1.37c-.4-.4-.92-.59-1.43-.59-.52 0-1.04.2-1.43.59L10.3 9.45l-7.72 7.72c-.78.78-.78 2.05 0 2.83L4 21.41c.39.39.9.59 1.41.59.51 0 1.02-.2 1.41-.59l7.78-7.78 2.81-2.81c.8-.78.8-2.07 0-2.86zM5.41 20L4 18.59l7.72-7.72 1.47 1.35L5.41 20z\"/>\n",
              "  </svg>\n",
              "      </button>\n",
              "      \n",
              "  <style>\n",
              "    .colab-df-container {\n",
              "      display:flex;\n",
              "      flex-wrap:wrap;\n",
              "      gap: 12px;\n",
              "    }\n",
              "\n",
              "    .colab-df-convert {\n",
              "      background-color: #E8F0FE;\n",
              "      border: none;\n",
              "      border-radius: 50%;\n",
              "      cursor: pointer;\n",
              "      display: none;\n",
              "      fill: #1967D2;\n",
              "      height: 32px;\n",
              "      padding: 0 0 0 0;\n",
              "      width: 32px;\n",
              "    }\n",
              "\n",
              "    .colab-df-convert:hover {\n",
              "      background-color: #E2EBFA;\n",
              "      box-shadow: 0px 1px 2px rgba(60, 64, 67, 0.3), 0px 1px 3px 1px rgba(60, 64, 67, 0.15);\n",
              "      fill: #174EA6;\n",
              "    }\n",
              "\n",
              "    [theme=dark] .colab-df-convert {\n",
              "      background-color: #3B4455;\n",
              "      fill: #D2E3FC;\n",
              "    }\n",
              "\n",
              "    [theme=dark] .colab-df-convert:hover {\n",
              "      background-color: #434B5C;\n",
              "      box-shadow: 0px 1px 3px 1px rgba(0, 0, 0, 0.15);\n",
              "      filter: drop-shadow(0px 1px 2px rgba(0, 0, 0, 0.3));\n",
              "      fill: #FFFFFF;\n",
              "    }\n",
              "  </style>\n",
              "\n",
              "      <script>\n",
              "        const buttonEl =\n",
              "          document.querySelector('#df-41d48503-ea29-4c6d-b46a-861b891cd8ec button.colab-df-convert');\n",
              "        buttonEl.style.display =\n",
              "          google.colab.kernel.accessAllowed ? 'block' : 'none';\n",
              "\n",
              "        async function convertToInteractive(key) {\n",
              "          const element = document.querySelector('#df-41d48503-ea29-4c6d-b46a-861b891cd8ec');\n",
              "          const dataTable =\n",
              "            await google.colab.kernel.invokeFunction('convertToInteractive',\n",
              "                                                     [key], {});\n",
              "          if (!dataTable) return;\n",
              "\n",
              "          const docLinkHtml = 'Like what you see? Visit the ' +\n",
              "            '<a target=\"_blank\" href=https://colab.research.google.com/notebooks/data_table.ipynb>data table notebook</a>'\n",
              "            + ' to learn more about interactive tables.';\n",
              "          element.innerHTML = '';\n",
              "          dataTable['output_type'] = 'display_data';\n",
              "          await google.colab.output.renderOutput(dataTable, element);\n",
              "          const docLink = document.createElement('div');\n",
              "          docLink.innerHTML = docLinkHtml;\n",
              "          element.appendChild(docLink);\n",
              "        }\n",
              "      </script>\n",
              "    </div>\n",
              "  </div>\n",
              "  "
            ]
          },
          "metadata": {},
          "execution_count": 21
        }
      ]
    },
    {
      "cell_type": "markdown",
      "source": [
        "- Se comprueba que todas las fechas son validas."
      ],
      "metadata": {
        "id": "isz3RJwT12uq"
      }
    },
    {
      "cell_type": "code",
      "source": [
        "# Observando los estadísticos de nuestro dataset\n",
        "data_clean.describe()"
      ],
      "metadata": {
        "colab": {
          "base_uri": "https://localhost:8080/",
          "height": 300
        },
        "id": "dhz9UG67Q3cL",
        "outputId": "1b280573-cb79-4c0a-d126-08090e8928df"
      },
      "execution_count": null,
      "outputs": [
        {
          "output_type": "execute_result",
          "data": {
            "text/plain": [
              "       precio_de_venta   costo_venta\n",
              "count     32925.000000  32925.000000\n",
              "mean       1177.315110    212.901139\n",
              "std        1927.788186    160.756368\n",
              "min          50.000000     30.000000\n",
              "25%         100.000000    100.000000\n",
              "50%         200.000000    200.000000\n",
              "75%         500.000000    230.000000\n",
              "max        5000.000000    500.000000"
            ],
            "text/html": [
              "\n",
              "  <div id=\"df-0dcbf32b-21e1-49b0-aa4a-f1374074e8ac\">\n",
              "    <div class=\"colab-df-container\">\n",
              "      <div>\n",
              "<style scoped>\n",
              "    .dataframe tbody tr th:only-of-type {\n",
              "        vertical-align: middle;\n",
              "    }\n",
              "\n",
              "    .dataframe tbody tr th {\n",
              "        vertical-align: top;\n",
              "    }\n",
              "\n",
              "    .dataframe thead th {\n",
              "        text-align: right;\n",
              "    }\n",
              "</style>\n",
              "<table border=\"1\" class=\"dataframe\">\n",
              "  <thead>\n",
              "    <tr style=\"text-align: right;\">\n",
              "      <th></th>\n",
              "      <th>precio_de_venta</th>\n",
              "      <th>costo_venta</th>\n",
              "    </tr>\n",
              "  </thead>\n",
              "  <tbody>\n",
              "    <tr>\n",
              "      <th>count</th>\n",
              "      <td>32925.000000</td>\n",
              "      <td>32925.000000</td>\n",
              "    </tr>\n",
              "    <tr>\n",
              "      <th>mean</th>\n",
              "      <td>1177.315110</td>\n",
              "      <td>212.901139</td>\n",
              "    </tr>\n",
              "    <tr>\n",
              "      <th>std</th>\n",
              "      <td>1927.788186</td>\n",
              "      <td>160.756368</td>\n",
              "    </tr>\n",
              "    <tr>\n",
              "      <th>min</th>\n",
              "      <td>50.000000</td>\n",
              "      <td>30.000000</td>\n",
              "    </tr>\n",
              "    <tr>\n",
              "      <th>25%</th>\n",
              "      <td>100.000000</td>\n",
              "      <td>100.000000</td>\n",
              "    </tr>\n",
              "    <tr>\n",
              "      <th>50%</th>\n",
              "      <td>200.000000</td>\n",
              "      <td>200.000000</td>\n",
              "    </tr>\n",
              "    <tr>\n",
              "      <th>75%</th>\n",
              "      <td>500.000000</td>\n",
              "      <td>230.000000</td>\n",
              "    </tr>\n",
              "    <tr>\n",
              "      <th>max</th>\n",
              "      <td>5000.000000</td>\n",
              "      <td>500.000000</td>\n",
              "    </tr>\n",
              "  </tbody>\n",
              "</table>\n",
              "</div>\n",
              "      <button class=\"colab-df-convert\" onclick=\"convertToInteractive('df-0dcbf32b-21e1-49b0-aa4a-f1374074e8ac')\"\n",
              "              title=\"Convert this dataframe to an interactive table.\"\n",
              "              style=\"display:none;\">\n",
              "        \n",
              "  <svg xmlns=\"http://www.w3.org/2000/svg\" height=\"24px\"viewBox=\"0 0 24 24\"\n",
              "       width=\"24px\">\n",
              "    <path d=\"M0 0h24v24H0V0z\" fill=\"none\"/>\n",
              "    <path d=\"M18.56 5.44l.94 2.06.94-2.06 2.06-.94-2.06-.94-.94-2.06-.94 2.06-2.06.94zm-11 1L8.5 8.5l.94-2.06 2.06-.94-2.06-.94L8.5 2.5l-.94 2.06-2.06.94zm10 10l.94 2.06.94-2.06 2.06-.94-2.06-.94-.94-2.06-.94 2.06-2.06.94z\"/><path d=\"M17.41 7.96l-1.37-1.37c-.4-.4-.92-.59-1.43-.59-.52 0-1.04.2-1.43.59L10.3 9.45l-7.72 7.72c-.78.78-.78 2.05 0 2.83L4 21.41c.39.39.9.59 1.41.59.51 0 1.02-.2 1.41-.59l7.78-7.78 2.81-2.81c.8-.78.8-2.07 0-2.86zM5.41 20L4 18.59l7.72-7.72 1.47 1.35L5.41 20z\"/>\n",
              "  </svg>\n",
              "      </button>\n",
              "      \n",
              "  <style>\n",
              "    .colab-df-container {\n",
              "      display:flex;\n",
              "      flex-wrap:wrap;\n",
              "      gap: 12px;\n",
              "    }\n",
              "\n",
              "    .colab-df-convert {\n",
              "      background-color: #E8F0FE;\n",
              "      border: none;\n",
              "      border-radius: 50%;\n",
              "      cursor: pointer;\n",
              "      display: none;\n",
              "      fill: #1967D2;\n",
              "      height: 32px;\n",
              "      padding: 0 0 0 0;\n",
              "      width: 32px;\n",
              "    }\n",
              "\n",
              "    .colab-df-convert:hover {\n",
              "      background-color: #E2EBFA;\n",
              "      box-shadow: 0px 1px 2px rgba(60, 64, 67, 0.3), 0px 1px 3px 1px rgba(60, 64, 67, 0.15);\n",
              "      fill: #174EA6;\n",
              "    }\n",
              "\n",
              "    [theme=dark] .colab-df-convert {\n",
              "      background-color: #3B4455;\n",
              "      fill: #D2E3FC;\n",
              "    }\n",
              "\n",
              "    [theme=dark] .colab-df-convert:hover {\n",
              "      background-color: #434B5C;\n",
              "      box-shadow: 0px 1px 3px 1px rgba(0, 0, 0, 0.15);\n",
              "      filter: drop-shadow(0px 1px 2px rgba(0, 0, 0, 0.3));\n",
              "      fill: #FFFFFF;\n",
              "    }\n",
              "  </style>\n",
              "\n",
              "      <script>\n",
              "        const buttonEl =\n",
              "          document.querySelector('#df-0dcbf32b-21e1-49b0-aa4a-f1374074e8ac button.colab-df-convert');\n",
              "        buttonEl.style.display =\n",
              "          google.colab.kernel.accessAllowed ? 'block' : 'none';\n",
              "\n",
              "        async function convertToInteractive(key) {\n",
              "          const element = document.querySelector('#df-0dcbf32b-21e1-49b0-aa4a-f1374074e8ac');\n",
              "          const dataTable =\n",
              "            await google.colab.kernel.invokeFunction('convertToInteractive',\n",
              "                                                     [key], {});\n",
              "          if (!dataTable) return;\n",
              "\n",
              "          const docLinkHtml = 'Like what you see? Visit the ' +\n",
              "            '<a target=\"_blank\" href=https://colab.research.google.com/notebooks/data_table.ipynb>data table notebook</a>'\n",
              "            + ' to learn more about interactive tables.';\n",
              "          element.innerHTML = '';\n",
              "          dataTable['output_type'] = 'display_data';\n",
              "          await google.colab.output.renderOutput(dataTable, element);\n",
              "          const docLink = document.createElement('div');\n",
              "          docLink.innerHTML = docLinkHtml;\n",
              "          element.appendChild(docLink);\n",
              "        }\n",
              "      </script>\n",
              "    </div>\n",
              "  </div>\n",
              "  "
            ]
          },
          "metadata": {},
          "execution_count": 22
        }
      ]
    },
    {
      "cell_type": "code",
      "source": [
        "# Observando los valores del precio de venta\n",
        "data_clean.precio_de_venta.value_counts()"
      ],
      "metadata": {
        "colab": {
          "base_uri": "https://localhost:8080/"
        },
        "id": "gcTWtKiaScth",
        "outputId": "d93bacf1-6e5c-48bb-d5cb-9265e24bfb55"
      },
      "execution_count": null,
      "outputs": [
        {
          "output_type": "execute_result",
          "data": {
            "text/plain": [
              "200.0     6655\n",
              "5000.0    6641\n",
              "50.0      6580\n",
              "100.0     6566\n",
              "500.0     6483\n",
              "Name: precio_de_venta, dtype: int64"
            ]
          },
          "metadata": {},
          "execution_count": 23
        }
      ]
    },
    {
      "cell_type": "code",
      "source": [
        "# Observando un histograma de la columna precio de venta\n",
        "data_clean.precio_de_venta.plot.hist()"
      ],
      "metadata": {
        "colab": {
          "base_uri": "https://localhost:8080/",
          "height": 447
        },
        "id": "A2cq5V6vRe4s",
        "outputId": "7186f337-c644-4c96-cdf1-4646cf30e010"
      },
      "execution_count": null,
      "outputs": [
        {
          "output_type": "execute_result",
          "data": {
            "text/plain": [
              "<Axes: ylabel='Frequency'>"
            ]
          },
          "metadata": {},
          "execution_count": 24
        },
        {
          "output_type": "display_data",
          "data": {
            "text/plain": [
              "<Figure size 640x480 with 1 Axes>"
            ],
            "image/png": "[encoded data removed]"
          },
          "metadata": {}
        }
      ]
    },
    {
      "cell_type": "markdown",
      "source": [
        "Se observa que existen valores atípicos pues hay registros donde el precio de venta se registró como 5000.\n",
        "\n",
        "Al analizar la distribución de los demás valores y al percatarme de es un error constante, puedo concluir que se trató de un error de inserción de datos al momento de ingresar la cantidad 500, por error se ingresó 5000.\n",
        "\n",
        "La solución para uniformizar los datos sería reemplazar todos los valores de 5000 por 500."
      ],
      "metadata": {
        "id": "XjMx0bccREeD"
      }
    },
    {
      "cell_type": "code",
      "source": [
        "# Reemplazando los valores de 5000 por 500\n",
        "data_clean.precio_de_venta = data_clean.precio_de_venta.replace({5000:500})\n",
        "data_clean.describe()"
      ],
      "metadata": {
        "colab": {
          "base_uri": "https://localhost:8080/",
          "height": 300
        },
        "id": "5SIj05mcS9CP",
        "outputId": "3aa04baa-13eb-46e6-8d3e-e2875463488f"
      },
      "execution_count": null,
      "outputs": [
        {
          "output_type": "execute_result",
          "data": {
            "text/plain": [
              "       precio_de_venta   costo_venta\n",
              "count     32925.000000  32925.000000\n",
              "mean        269.661352    212.901139\n",
              "std         193.684041    160.756368\n",
              "min          50.000000     30.000000\n",
              "25%         100.000000    100.000000\n",
              "50%         200.000000    200.000000\n",
              "75%         500.000000    230.000000\n",
              "max         500.000000    500.000000"
            ],
            "text/html": [
              "\n",
              "  <div id=\"df-d929ac72-4aa3-482e-9a0b-fcee52a8f0bf\">\n",
              "    <div class=\"colab-df-container\">\n",
              "      <div>\n",
              "<style scoped>\n",
              "    .dataframe tbody tr th:only-of-type {\n",
              "        vertical-align: middle;\n",
              "    }\n",
              "\n",
              "    .dataframe tbody tr th {\n",
              "        vertical-align: top;\n",
              "    }\n",
              "\n",
              "    .dataframe thead th {\n",
              "        text-align: right;\n",
              "    }\n",
              "</style>\n",
              "<table border=\"1\" class=\"dataframe\">\n",
              "  <thead>\n",
              "    <tr style=\"text-align: right;\">\n",
              "      <th></th>\n",
              "      <th>precio_de_venta</th>\n",
              "      <th>costo_venta</th>\n",
              "    </tr>\n",
              "  </thead>\n",
              "  <tbody>\n",
              "    <tr>\n",
              "      <th>count</th>\n",
              "      <td>32925.000000</td>\n",
              "      <td>32925.000000</td>\n",
              "    </tr>\n",
              "    <tr>\n",
              "      <th>mean</th>\n",
              "      <td>269.661352</td>\n",
              "      <td>212.901139</td>\n",
              "    </tr>\n",
              "    <tr>\n",
              "      <th>std</th>\n",
              "      <td>193.684041</td>\n",
              "      <td>160.756368</td>\n",
              "    </tr>\n",
              "    <tr>\n",
              "      <th>min</th>\n",
              "      <td>50.000000</td>\n",
              "      <td>30.000000</td>\n",
              "    </tr>\n",
              "    <tr>\n",
              "      <th>25%</th>\n",
              "      <td>100.000000</td>\n",
              "      <td>100.000000</td>\n",
              "    </tr>\n",
              "    <tr>\n",
              "      <th>50%</th>\n",
              "      <td>200.000000</td>\n",
              "      <td>200.000000</td>\n",
              "    </tr>\n",
              "    <tr>\n",
              "      <th>75%</th>\n",
              "      <td>500.000000</td>\n",
              "      <td>230.000000</td>\n",
              "    </tr>\n",
              "    <tr>\n",
              "      <th>max</th>\n",
              "      <td>500.000000</td>\n",
              "      <td>500.000000</td>\n",
              "    </tr>\n",
              "  </tbody>\n",
              "</table>\n",
              "</div>\n",
              "      <button class=\"colab-df-convert\" onclick=\"convertToInteractive('df-d929ac72-4aa3-482e-9a0b-fcee52a8f0bf')\"\n",
              "              title=\"Convert this dataframe to an interactive table.\"\n",
              "              style=\"display:none;\">\n",
              "        \n",
              "  <svg xmlns=\"http://www.w3.org/2000/svg\" height=\"24px\"viewBox=\"0 0 24 24\"\n",
              "       width=\"24px\">\n",
              "    <path d=\"M0 0h24v24H0V0z\" fill=\"none\"/>\n",
              "    <path d=\"M18.56 5.44l.94 2.06.94-2.06 2.06-.94-2.06-.94-.94-2.06-.94 2.06-2.06.94zm-11 1L8.5 8.5l.94-2.06 2.06-.94-2.06-.94L8.5 2.5l-.94 2.06-2.06.94zm10 10l.94 2.06.94-2.06 2.06-.94-2.06-.94-.94-2.06-.94 2.06-2.06.94z\"/><path d=\"M17.41 7.96l-1.37-1.37c-.4-.4-.92-.59-1.43-.59-.52 0-1.04.2-1.43.59L10.3 9.45l-7.72 7.72c-.78.78-.78 2.05 0 2.83L4 21.41c.39.39.9.59 1.41.59.51 0 1.02-.2 1.41-.59l7.78-7.78 2.81-2.81c.8-.78.8-2.07 0-2.86zM5.41 20L4 18.59l7.72-7.72 1.47 1.35L5.41 20z\"/>\n",
              "  </svg>\n",
              "      </button>\n",
              "      \n",
              "  <style>\n",
              "    .colab-df-container {\n",
              "      display:flex;\n",
              "      flex-wrap:wrap;\n",
              "      gap: 12px;\n",
              "    }\n",
              "\n",
              "    .colab-df-convert {\n",
              "      background-color: #E8F0FE;\n",
              "      border: none;\n",
              "      border-radius: 50%;\n",
              "      cursor: pointer;\n",
              "      display: none;\n",
              "      fill: #1967D2;\n",
              "      height: 32px;\n",
              "      padding: 0 0 0 0;\n",
              "      width: 32px;\n",
              "    }\n",
              "\n",
              "    .colab-df-convert:hover {\n",
              "      background-color: #E2EBFA;\n",
              "      box-shadow: 0px 1px 2px rgba(60, 64, 67, 0.3), 0px 1px 3px 1px rgba(60, 64, 67, 0.15);\n",
              "      fill: #174EA6;\n",
              "    }\n",
              "\n",
              "    [theme=dark] .colab-df-convert {\n",
              "      background-color: #3B4455;\n",
              "      fill: #D2E3FC;\n",
              "    }\n",
              "\n",
              "    [theme=dark] .colab-df-convert:hover {\n",
              "      background-color: #434B5C;\n",
              "      box-shadow: 0px 1px 3px 1px rgba(0, 0, 0, 0.15);\n",
              "      filter: drop-shadow(0px 1px 2px rgba(0, 0, 0, 0.3));\n",
              "      fill: #FFFFFF;\n",
              "    }\n",
              "  </style>\n",
              "\n",
              "      <script>\n",
              "        const buttonEl =\n",
              "          document.querySelector('#df-d929ac72-4aa3-482e-9a0b-fcee52a8f0bf button.colab-df-convert');\n",
              "        buttonEl.style.display =\n",
              "          google.colab.kernel.accessAllowed ? 'block' : 'none';\n",
              "\n",
              "        async function convertToInteractive(key) {\n",
              "          const element = document.querySelector('#df-d929ac72-4aa3-482e-9a0b-fcee52a8f0bf');\n",
              "          const dataTable =\n",
              "            await google.colab.kernel.invokeFunction('convertToInteractive',\n",
              "                                                     [key], {});\n",
              "          if (!dataTable) return;\n",
              "\n",
              "          const docLinkHtml = 'Like what you see? Visit the ' +\n",
              "            '<a target=\"_blank\" href=https://colab.research.google.com/notebooks/data_table.ipynb>data table notebook</a>'\n",
              "            + ' to learn more about interactive tables.';\n",
              "          element.innerHTML = '';\n",
              "          dataTable['output_type'] = 'display_data';\n",
              "          await google.colab.output.renderOutput(dataTable, element);\n",
              "          const docLink = document.createElement('div');\n",
              "          docLink.innerHTML = docLinkHtml;\n",
              "          element.appendChild(docLink);\n",
              "        }\n",
              "      </script>\n",
              "    </div>\n",
              "  </div>\n",
              "  "
            ]
          },
          "metadata": {},
          "execution_count": 25
        }
      ]
    },
    {
      "cell_type": "code",
      "source": [
        "# Observando características del dataset\n",
        "data_clean.describe(include=object)"
      ],
      "metadata": {
        "colab": {
          "base_uri": "https://localhost:8080/",
          "height": 175
        },
        "id": "_LM-E02AUMy7",
        "outputId": "9ae4456c-0a68-4b77-df13-43d05513fd27"
      },
      "execution_count": null,
      "outputs": [
        {
          "output_type": "execute_result",
          "data": {
            "text/plain": [
              "       id_sim tipo_transaccion id_vendedor bodega\n",
              "count   32925            32925       32925  32925\n",
              "unique   8665                3          51      6\n",
              "top         0          recarga           0      2\n",
              "freq     3231            14857        3262   6055"
            ],
            "text/html": [
              "\n",
              "  <div id=\"df-96df16fa-b558-4cce-94b4-728a209516d3\">\n",
              "    <div class=\"colab-df-container\">\n",
              "      <div>\n",
              "<style scoped>\n",
              "    .dataframe tbody tr th:only-of-type {\n",
              "        vertical-align: middle;\n",
              "    }\n",
              "\n",
              "    .dataframe tbody tr th {\n",
              "        vertical-align: top;\n",
              "    }\n",
              "\n",
              "    .dataframe thead th {\n",
              "        text-align: right;\n",
              "    }\n",
              "</style>\n",
              "<table border=\"1\" class=\"dataframe\">\n",
              "  <thead>\n",
              "    <tr style=\"text-align: right;\">\n",
              "      <th></th>\n",
              "      <th>id_sim</th>\n",
              "      <th>tipo_transaccion</th>\n",
              "      <th>id_vendedor</th>\n",
              "      <th>bodega</th>\n",
              "    </tr>\n",
              "  </thead>\n",
              "  <tbody>\n",
              "    <tr>\n",
              "      <th>count</th>\n",
              "      <td>32925</td>\n",
              "      <td>32925</td>\n",
              "      <td>32925</td>\n",
              "      <td>32925</td>\n",
              "    </tr>\n",
              "    <tr>\n",
              "      <th>unique</th>\n",
              "      <td>8665</td>\n",
              "      <td>3</td>\n",
              "      <td>51</td>\n",
              "      <td>6</td>\n",
              "    </tr>\n",
              "    <tr>\n",
              "      <th>top</th>\n",
              "      <td>0</td>\n",
              "      <td>recarga</td>\n",
              "      <td>0</td>\n",
              "      <td>2</td>\n",
              "    </tr>\n",
              "    <tr>\n",
              "      <th>freq</th>\n",
              "      <td>3231</td>\n",
              "      <td>14857</td>\n",
              "      <td>3262</td>\n",
              "      <td>6055</td>\n",
              "    </tr>\n",
              "  </tbody>\n",
              "</table>\n",
              "</div>\n",
              "      <button class=\"colab-df-convert\" onclick=\"convertToInteractive('df-96df16fa-b558-4cce-94b4-728a209516d3')\"\n",
              "              title=\"Convert this dataframe to an interactive table.\"\n",
              "              style=\"display:none;\">\n",
              "        \n",
              "  <svg xmlns=\"http://www.w3.org/2000/svg\" height=\"24px\"viewBox=\"0 0 24 24\"\n",
              "       width=\"24px\">\n",
              "    <path d=\"M0 0h24v24H0V0z\" fill=\"none\"/>\n",
              "    <path d=\"M18.56 5.44l.94 2.06.94-2.06 2.06-.94-2.06-.94-.94-2.06-.94 2.06-2.06.94zm-11 1L8.5 8.5l.94-2.06 2.06-.94-2.06-.94L8.5 2.5l-.94 2.06-2.06.94zm10 10l.94 2.06.94-2.06 2.06-.94-2.06-.94-.94-2.06-.94 2.06-2.06.94z\"/><path d=\"M17.41 7.96l-1.37-1.37c-.4-.4-.92-.59-1.43-.59-.52 0-1.04.2-1.43.59L10.3 9.45l-7.72 7.72c-.78.78-.78 2.05 0 2.83L4 21.41c.39.39.9.59 1.41.59.51 0 1.02-.2 1.41-.59l7.78-7.78 2.81-2.81c.8-.78.8-2.07 0-2.86zM5.41 20L4 18.59l7.72-7.72 1.47 1.35L5.41 20z\"/>\n",
              "  </svg>\n",
              "      </button>\n",
              "      \n",
              "  <style>\n",
              "    .colab-df-container {\n",
              "      display:flex;\n",
              "      flex-wrap:wrap;\n",
              "      gap: 12px;\n",
              "    }\n",
              "\n",
              "    .colab-df-convert {\n",
              "      background-color: #E8F0FE;\n",
              "      border: none;\n",
              "      border-radius: 50%;\n",
              "      cursor: pointer;\n",
              "      display: none;\n",
              "      fill: #1967D2;\n",
              "      height: 32px;\n",
              "      padding: 0 0 0 0;\n",
              "      width: 32px;\n",
              "    }\n",
              "\n",
              "    .colab-df-convert:hover {\n",
              "      background-color: #E2EBFA;\n",
              "      box-shadow: 0px 1px 2px rgba(60, 64, 67, 0.3), 0px 1px 3px 1px rgba(60, 64, 67, 0.15);\n",
              "      fill: #174EA6;\n",
              "    }\n",
              "\n",
              "    [theme=dark] .colab-df-convert {\n",
              "      background-color: #3B4455;\n",
              "      fill: #D2E3FC;\n",
              "    }\n",
              "\n",
              "    [theme=dark] .colab-df-convert:hover {\n",
              "      background-color: #434B5C;\n",
              "      box-shadow: 0px 1px 3px 1px rgba(0, 0, 0, 0.15);\n",
              "      filter: drop-shadow(0px 1px 2px rgba(0, 0, 0, 0.3));\n",
              "      fill: #FFFFFF;\n",
              "    }\n",
              "  </style>\n",
              "\n",
              "      <script>\n",
              "        const buttonEl =\n",
              "          document.querySelector('#df-96df16fa-b558-4cce-94b4-728a209516d3 button.colab-df-convert');\n",
              "        buttonEl.style.display =\n",
              "          google.colab.kernel.accessAllowed ? 'block' : 'none';\n",
              "\n",
              "        async function convertToInteractive(key) {\n",
              "          const element = document.querySelector('#df-96df16fa-b558-4cce-94b4-728a209516d3');\n",
              "          const dataTable =\n",
              "            await google.colab.kernel.invokeFunction('convertToInteractive',\n",
              "                                                     [key], {});\n",
              "          if (!dataTable) return;\n",
              "\n",
              "          const docLinkHtml = 'Like what you see? Visit the ' +\n",
              "            '<a target=\"_blank\" href=https://colab.research.google.com/notebooks/data_table.ipynb>data table notebook</a>'\n",
              "            + ' to learn more about interactive tables.';\n",
              "          element.innerHTML = '';\n",
              "          dataTable['output_type'] = 'display_data';\n",
              "          await google.colab.output.renderOutput(dataTable, element);\n",
              "          const docLink = document.createElement('div');\n",
              "          docLink.innerHTML = docLinkHtml;\n",
              "          element.appendChild(docLink);\n",
              "        }\n",
              "      </script>\n",
              "    </div>\n",
              "  </div>\n",
              "  "
            ]
          },
          "metadata": {},
          "execution_count": 27
        }
      ]
    },
    {
      "cell_type": "code",
      "source": [
        "data_clean.id_sim.value_counts()"
      ],
      "metadata": {
        "colab": {
          "base_uri": "https://localhost:8080/"
        },
        "id": "tt2nT6WSVlCJ",
        "outputId": "8767005d-9afd-41fe-e2d1-4431739464cd"
      },
      "execution_count": null,
      "outputs": [
        {
          "output_type": "execute_result",
          "data": {
            "text/plain": [
              "0       3231\n",
              "3236      12\n",
              "2396      12\n",
              "6757      11\n",
              "9952      11\n",
              "        ... \n",
              "4102       1\n",
              "4075       1\n",
              "9588       1\n",
              "1767       1\n",
              "4513       1\n",
              "Name: id_sim, Length: 8665, dtype: int64"
            ]
          },
          "metadata": {},
          "execution_count": 30
        }
      ]
    },
    {
      "cell_type": "code",
      "source": [
        "data_clean.tipo_transaccion.value_counts()"
      ],
      "metadata": {
        "colab": {
          "base_uri": "https://localhost:8080/"
        },
        "id": "KlZQ5wMEVqDb",
        "outputId": "6d4572b3-a2df-452b-ff3a-32d69ad08f47"
      },
      "execution_count": null,
      "outputs": [
        {
          "output_type": "execute_result",
          "data": {
            "text/plain": [
              "recarga    14857\n",
              "alta       14780\n",
              "NE          3288\n",
              "Name: tipo_transaccion, dtype: int64"
            ]
          },
          "metadata": {},
          "execution_count": 31
        }
      ]
    },
    {
      "cell_type": "code",
      "source": [
        "data_clean.id_vendedor.value_counts()"
      ],
      "metadata": {
        "colab": {
          "base_uri": "https://localhost:8080/"
        },
        "id": "syeO2WEwVtih",
        "outputId": "1c8656db-8be5-4f18-b8cf-d5a626c0ca62"
      },
      "execution_count": null,
      "outputs": [
        {
          "output_type": "execute_result",
          "data": {
            "text/plain": [
              "0     3262\n",
              "39     628\n",
              "37     627\n",
              "33     625\n",
              "34     625\n",
              "31     625\n",
              "6      625\n",
              "14     624\n",
              "26     620\n",
              "8      613\n",
              "4      613\n",
              "2      613\n",
              "36     611\n",
              "18     611\n",
              "27     611\n",
              "3      607\n",
              "42     606\n",
              "28     606\n",
              "41     603\n",
              "9      601\n",
              "25     599\n",
              "32     598\n",
              "16     597\n",
              "21     596\n",
              "13     595\n",
              "48     595\n",
              "1      594\n",
              "40     591\n",
              "15     590\n",
              "12     588\n",
              "35     588\n",
              "24     587\n",
              "50     586\n",
              "46     584\n",
              "11     582\n",
              "17     581\n",
              "23     579\n",
              "44     578\n",
              "20     577\n",
              "7      577\n",
              "10     575\n",
              "19     574\n",
              "49     573\n",
              "22     570\n",
              "5      568\n",
              "29     566\n",
              "45     565\n",
              "30     564\n",
              "38     562\n",
              "43     558\n",
              "47     532\n",
              "Name: id_vendedor, dtype: int64"
            ]
          },
          "metadata": {},
          "execution_count": 32
        }
      ]
    },
    {
      "cell_type": "code",
      "source": [
        "data_clean.bodega.value_counts()"
      ],
      "metadata": {
        "colab": {
          "base_uri": "https://localhost:8080/"
        },
        "id": "qvrpvnmZVzSE",
        "outputId": "be5a4f8a-3d38-418b-97ea-9a829935b02a"
      },
      "execution_count": null,
      "outputs": [
        {
          "output_type": "execute_result",
          "data": {
            "text/plain": [
              "2    6055\n",
              "3    5968\n",
              "4    5961\n",
              "5    5908\n",
              "1    5808\n",
              "0    3225\n",
              "Name: bodega, dtype: int64"
            ]
          },
          "metadata": {},
          "execution_count": 33
        }
      ]
    },
    {
      "cell_type": "markdown",
      "source": [
        "En este punto considero que los datos están totalmente limpios, por lo que procederé a crear un nuevo archivo csv con los datos limpios."
      ],
      "metadata": {
        "id": "HACugxpoV41j"
      }
    },
    {
      "cell_type": "code",
      "source": [
        "data_clean.to_csv('/content/drive/MyDrive/EvaluacionTecnica/datos_limpios.csv', index = False)"
      ],
      "metadata": {
        "id": "t2mhVSwFV3KU"
      },
      "execution_count": null,
      "outputs": []
    },
    {
      "cell_type": "markdown",
      "source": [
        "## Exploración y Análisis de Datos\n"
      ],
      "metadata": {
        "id": "VE9gStL0XeEP"
      }
    },
    {
      "cell_type": "markdown",
      "source": [
        "Pendiente"
      ],
      "metadata": {
        "id": "7OOAUoDBXh_1"
      }
    },
    {
      "cell_type": "code",
      "source": [],
      "metadata": {
        "id": "FnI1SFxBXlGn"
      },
      "execution_count": null,
      "outputs": []
    }
  ]
}